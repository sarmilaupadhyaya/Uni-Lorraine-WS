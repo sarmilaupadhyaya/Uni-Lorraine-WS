{
 "cells": [
  {
   "cell_type": "markdown",
   "metadata": {},
   "source": [
    "# A very short introduction before to take the plunge\n",
    "\n",
    "<p>The objective fo the course is to understand what is \"Sentiment Analysis and Opinion Mining\" (SAOM).</p>\n",
    "\n",
    "<p>For that, I propose this first session consisting in discovering data used for this NLP task and a first model with all classical steps: data (tokenization, segmentation into train/dev/test parts), programmation of the model, evaluation of the performance.</p>\n",
    "\n",
    "\n",
    "\n"
   ]
  },
  {
   "cell_type": "markdown",
   "metadata": {},
   "source": [
    "# Predicting the positive/negative labels for movie reviews\n",
    "\n",
    "The objective of this programming work is to program a method for predicting the positive/negative label of a movie review.\n",
    "\n",
    "\"Positive\" or \"Negative\" is a binary opinion about something, here, a movie. The review explains what is good and what is not goodin the movie, and then, sommeone (the labeller) labels the review with \"+\" or \"-\" according to a labelling guideline.\n",
    "\n",
    "Thrn, if we have numerous reviews with \"+/-\" labels, it is possible to extract a predictive model which can give the \"+' pr the '-\" opinion to a new review.\n",
    "\n",
    "You will use a movie review database built by Pang and Lee, in 2008. This data provides textual data for movie reviews. I give below two examples of such movie reviews :\n",
    "\n",
    "The former : \"this film is extraordinarily horrendous and I'm not going to waste any more words on it.\" is quite negative.\n",
    "\n",
    "The latter : \"this three hour movie opens up with a view of singer/guitar player/musician/composer frank zappa rehearsing with his fellow band members. All the rest displays a compilation of footage, mostly from the concert at the palladium in new york city, halloween 1979. Other footage shows backstage foolishness, and amazing clay animation by Bruce Bickford. the performance of \"titties and beer\" played in this movie is very entertaining, with drummer terry bozzio supplying the voice of the devil. Frank's guitar solos outdo any van halen or hendrix I've ever heard. Bruce Bickford's outlandish clay animation is that beyond belief with zooms, morphings, etc. and actually, it doesn't even look like clay, it looks like meat.\" gives an positive opinion on the movie.\n",
    "\n",
    "<p>Pang and Lee labeled 1000 movie reviews with the 'positive' label and 1000 movie reviews with the 'negative' label.</p>\n",
    "\n",
    "# Dealing with the movie review database\n",
    "\n",
    "Firstly, let's manipulate the movie review database with Python.\n",
    "\n",
    "This ressource is included in the nltk package:"
   ]
  },
  {
   "cell_type": "code",
   "execution_count": 1,
   "metadata": {},
   "outputs": [
    {
     "name": "stderr",
     "output_type": "stream",
     "text": [
      "[nltk_data] Downloading package movie_reviews to\n",
      "[nltk_data]     /home/sharmila/nltk_data...\n",
      "[nltk_data]   Unzipping corpora/movie_reviews.zip.\n"
     ]
    },
    {
     "name": "stdout",
     "output_type": "stream",
     "text": [
      "neg/cv000_29416.txt\n",
      "['neg/cv000_29416.txt', 'neg/cv001_19502.txt', 'neg/cv002_17424.txt', 'neg/cv003_12683.txt', 'neg/cv004_12641.txt', 'neg/cv005_29357.txt', 'neg/cv006_17022.txt', 'neg/cv007_4992.txt', 'neg/cv008_29326.txt', 'neg/cv009_29417.txt']\n",
      "1000 1000\n"
     ]
    }
   ],
   "source": [
    "import nltk\n",
    "\n",
    "nltk.download(\"movie_reviews\")\n",
    "\n",
    "from nltk.corpus import movie_reviews\n",
    "\n",
    "negids = movie_reviews.fileids('neg')\n",
    "posids = movie_reviews.fileids('pos')\n",
    "\n",
    "print(negids[0])\n",
    "print(negids[0:10])\n",
    "print(len(negids),len(posids))"
   ]
  },
  {
   "cell_type": "markdown",
   "metadata": {},
   "source": [
    "As you can see in this example, the package movie_reviews defines a funtion fileids which can list the id of the negative ou positive reviews.\n",
    "\n",
    "For me, the corpus is located in C:\\Users\\langlois\\AppData\\Roaming\\nltk_data\\corpora\\movie_reviews\\neg. I invite you to find such a location, and then, you can open positive and negative review documents. For example, find the cv000_29416.txt negative review.\n",
    "\n",
    "The Python API allows to get the text of a review. You have to give to the function 'word' the list of the ids of the reviews you want the raw content:"
   ]
  },
  {
   "cell_type": "code",
   "execution_count": 2,
   "metadata": {},
   "outputs": [
    {
     "name": "stdout",
     "output_type": "stream",
     "text": [
      "['plot', ':', 'two', 'teen', 'couples', 'go', 'to', 'a', 'church', 'party', ',', 'drink', 'and', 'then', 'drive', '.', 'they', 'get', 'into', 'an', 'accident', '.', 'one', 'of', 'the', 'guys', 'dies', ',', 'but', 'his', 'girlfriend', 'continues', 'to', 'see', 'him', 'in', 'her', 'life', ',', 'and', 'has', 'nightmares', '.', 'what', \"'\", 's', 'the', 'deal', '?', 'watch', 'the', 'movie', 'and', '\"', 'sorta', '\"', 'find', 'out', '.', '.', '.', 'critique', ':', 'a', 'mind', '-', 'fuck', 'movie', 'for', 'the', 'teen', 'generation', 'that', 'touches', 'on', 'a', 'very', 'cool', 'idea', ',', 'but', 'presents', 'it', 'in', 'a', 'very', 'bad', 'package', '.', 'which', 'is', 'what', 'makes', 'this', 'review', 'an', 'even', 'harder', 'one', 'to']\n"
     ]
    }
   ],
   "source": [
    "t = movie_reviews.words(fileids = [negids[0]])\n",
    "print(t[0:100])\n"
   ]
  },
  {
   "cell_type": "markdown",
   "metadata": {},
   "source": [
    "As you can see, the words are given inside a list, and the tokenization is yet applied. Remark that no lemmatization is applied.\n",
    "\n",
    "OK, now we can access to every movie review, we can access to the document content. Moreover, as the reviews are located in 'pos' and 'neg' directories, we know which ones are 'positive' and which ones are 'negative' (I recall that this labels have been given to reviews by Pang eta al. decisions.\n",
    "\n",
    "Now, we can compute statistics onto this textual material. Let's go!"
   ]
  },
  {
   "cell_type": "markdown",
   "metadata": {},
   "source": [
    "# Work for you 1\n",
    "\n",
    "Count the frequency of a word into negative documents and positive documents. For each word $w$ in the corpus (all words in all positive and negative documents), you have to give the number of positive documents $POS(w)$ that contain the word, and the number of negative documents $NEG(w)$ that contain $w$.\n",
    "\n",
    "$$POS(w)= |\\{d \\in C_{p}\\ s.t.\\ w \\in d\\}|$$\n",
    "\n",
    "$$NEG(w)= |\\{d \\in C_{n}\\ s.t.\\ w \\in d\\}|$$\n",
    "\n",
    "where $C_{p}$ is the set of positive documents and $C_{n}$ is the set of negative documents.\n",
    "\n",
    "\n",
    "\n",
    "\n",
    "Compare the values for positive and negative documents. Do you see something interesting?\n",
    "\n",
    "Try it for \"ugly\", \"bad\", \"good\", \"interesting\", \"movie\"."
   ]
  },
  {
   "cell_type": "code",
   "execution_count": null,
   "metadata": {},
   "outputs": [],
   "source": [
    "## give your code here\n",
    "\n",
    "count\n"
   ]
  },
  {
   "cell_type": "markdown",
   "metadata": {},
   "source": [
    "How many different words are in $C_{p} \\cup C_{n}$?"
   ]
  },
  {
   "cell_type": "code",
   "execution_count": null,
   "metadata": {},
   "outputs": [],
   "source": [
    "## give your code here\n"
   ]
  },
  {
   "cell_type": "markdown",
   "metadata": {},
   "source": [
    "Build the set of words $\\{W_{p/n}\\}$ that are in $C_{p}$ and not in $C_{n}$.\n",
    "\n",
    "In the same way, build the set of words $\\{W_{n/p}\\}$ that are in $C_{n}$ and not in $C_{p}$.\n",
    "\n",
    "Print the most 5 frequent words in $\\{W_{p/n}\\}$ and the most 5 frequent words in $\\{W_{n/p}\\}$.\n",
    "\n",
    "Do you remark if there are clearly 'positive' words in $\\{W_{p/n}\\}$? And if there are clearly 'negative' words in $\\{W_{n/p}\\}$?"
   ]
  },
  {
   "cell_type": "code",
   "execution_count": null,
   "metadata": {},
   "outputs": [],
   "source": [
    "## give your code here\n",
    "\n",
    "\n",
    "## give your comment below\n"
   ]
  },
  {
   "cell_type": "markdown",
   "metadata": {},
   "source": [
    "# Work for you 2\n",
    "\n",
    "I have an hypothsis: I am certain that negative reviews tend to be short and that positive reviews tend to be long. Maybe we could use the information 'length of the review' in order to predict the positivity or the negativity of the review?\n",
    "\n",
    "For that, we could firstly compute the average length of the negative reviews and the positive reviews.\n",
    "\n",
    "Extract statistics for the negative reviews and for the positive reviews. We want the histogram of lengths of documents, by buckets of size equal to 100. Do you see a difference of distribution between negative reviews and positive reviews?"
   ]
  },
  {
   "cell_type": "code",
   "execution_count": null,
   "metadata": {},
   "outputs": [],
   "source": [
    "## give your code below\n"
   ]
  },
  {
   "cell_type": "markdown",
   "metadata": {},
   "source": [
    "OK, we want a more precise information.\n",
    "\n",
    "We want the histogram of lengths of documents, by buckets of size equal to 100:\n",
    "\n",
    "+ how many positive documents are of length between 1 and 99?\n",
    "+ how many positive documents are of length between 100 and 199?\n",
    "+ how many positive documents are of length between 200 and 299?\n",
    "+ and so on\n",
    "\n",
    "+ how many negative documents are of length between 1 and 99?\n",
    "+ how many negative documents are of length between 100 and 199?\n",
    "+ how many negative documents are of length between 200 and 299?\n",
    "+ and so on\n",
    "\n",
    "Plot the both histograms on the same graph? Do you see a strong difference of distribution between negative reviews and positive reviews?\n",
    "\n",
    "Then, do you think that the length of the review is a good indicator for the positivity or the negativity of the review?"
   ]
  },
  {
   "cell_type": "code",
   "execution_count": null,
   "metadata": {},
   "outputs": [],
   "source": [
    "## give your code below\n",
    "\n",
    "\n",
    "## give your comments below\n",
    "\n",
    "    "
   ]
  },
  {
   "cell_type": "markdown",
   "metadata": {},
   "source": [
    "# Segmentation of the corpus into a train part and a test part\n",
    "\n",
    "We abandon the idea based on the length.\n",
    "\n",
    "Now we are going to build a predictive model based on the words contained in the review. Our hypothesis is that there are 'positive' words, and 'negative' words. For example, if the review contains 'perfect' it is certainly a positive review.\n",
    "\n",
    "When you want to estimate a predictive model and evaluate it, you have to estimate the predictive model on a train part, and you have to evaluate the predictive performance on a __separate__ test part. Moreover, maybe in the future you will need to estimate hyper-parameters (for example, the weights of the linear combination between two models): then you havealse to deal with a __separate__ development part (also called tuning set).\n",
    "\n",
    "For, that, I propose the following code:"
   ]
  },
  {
   "cell_type": "code",
   "execution_count": null,
   "metadata": {},
   "outputs": [],
   "source": [
    "train_negids = negids[0:int(0.6*len(negids))]\n",
    "dev_negids = negids[int(0.6*len(negids)):int(0.8*len(negids))]\n",
    "test_negids = negids[int(0.8*len(negids)):]\n",
    "\n",
    "train_posids = posids[0:int(0.6*len(posids))]\n",
    "dev_posids = posids[int(0.6*len(posids)):int(0.8*len(posids))]\n",
    "test_posids = posids[int(0.8*len(posids)):]\n",
    "\n",
    "print(len(train_negids))\n",
    "print(len(dev_negids))\n",
    "print(len(test_negids))\n",
    "print(len(train_posids))\n",
    "print(len(dev_posids))\n",
    "print(len(test_posids))"
   ]
  },
  {
   "cell_type": "markdown",
   "metadata": {},
   "source": [
    "# The predictive model\n",
    "\n",
    "[Dave et al., 2003] propose the following strategy to predict the label of a movie review :\n",
    "\n",
    "$$\\mathcal{P}$$\n",
    "\n",
    "The score of a word $w$ is defined by:\n",
    "\n",
    "$$ score(w) = \\frac{P(w|\\mathcal{P})-P(w|\\mathcal{N})}{P(w|\\mathcal{P})+P(w|\\mathcal{N})}$$\n",
    "\n",
    "Where $P(w|\\mathcal{P})$ is the probability that the word $w$ occurs in a positive document, and $P(w|\\mathcal{N})$ is the probability that the word $w$ occurs in a negative document of the training corpus.\n",
    "\n",
    "Then, the 'positivity' of a document $d$ is given by:\n",
    "\n",
    "$$eval(d) = \\sum_{w\\ \\in \\ set(d)} score(w)$$\n",
    "\n",
    "where the sum is applyed on the set of words in $d$ (a word occuring several times in $d$ is counted only once in the sum).\n",
    "\n",
    "Then, the decision follows the following condition: if  $eval(d) > 0$ then a document in the test part positive else the document is negative\n",
    "\n"
   ]
  },
  {
   "cell_type": "markdown",
   "metadata": {},
   "source": [
    "# Estimating the parameters of the predictive model\n",
    "\n",
    "The parameters of this predictive model are all the $P(w|\\mathcal{P})$ and the $P(w|\\mathcal{N})$ for all the words $w$ in the positive and negative documents.\n",
    "\n",
    "__Work__: compute these values on the training corpus.\n",
    "\n",
    "For estimating the $P(w|\\mathcal{P})$, iterate on all the positive documents in the train positive part. $P(w|\\mathcal{P})$ is estimated by the formula:\n",
    "\n",
    "$$P(w|\\mathcal{P}) = \\frac{|sum_{d \\in \\{\\mathcal{P}_{train}\\}} \\delta(w,d)|}{|\\{\\mathcal{P}_{train}\\}|}$$\n",
    "\n",
    "where $\\{\\mathcal{P}_{train}\\}$ is the set of documents in the positive train part, and  $\\delta(w,d)$ is equal to 1 if $w$ is in $d$, 0 otherwise. \n",
    "\n",
    "The formula is the same for $P(w|\\mathcal{N})$:\n",
    "\n",
    "$$P(w|\\mathcal{N}) = \\frac{|sum_{d \\in \\{\\mathcal{N}_{train}\\}} \\delta(w,d)|}{|\\{\\mathcal{N}_{train}\\}|}$$\n"
   ]
  },
  {
   "cell_type": "code",
   "execution_count": null,
   "metadata": {},
   "outputs": [],
   "source": [
    "## give your code below\n"
   ]
  },
  {
   "cell_type": "markdown",
   "metadata": {},
   "source": [
    "# Evaluating the predictive model\n",
    "\n",
    "We want to know if, on the test corpus, the decision strategy described above performs well or not. We want to know if when a document is labeled positive by Pang et al., the document is predicted as positive by the model, and so on for a negative document.\n",
    "\n",
    "We are going to evaluate the following statistics on the test corpus.\n",
    "\n",
    "When the model predict 'positive', the document could be actually 'positive': this is a true positive ($tp$). But, the document may be actually 'negative': this is a false positive ($fp$).\n",
    "\n",
    "In the same way, when the model predict 'negative', the document could be actually 'negative': this is a true negative ($tn$). But, the document may be actually 'positive': this is a false negative ($fn$).\n",
    "\n",
    "Note that, there are the following constraints:\n",
    "\n",
    "+ $tp+fp=n$\n",
    "+ $fn+tn=n$\n",
    "+ $tp+fn=n$\n",
    "+ $fp+tn=n$ \n",
    "\n",
    "where $n$ is the number of documents (positive or negative).\n",
    "\n",
    "these notations can be sumarized into the following table\n",
    "\n",
    "<table>\n",
    "    <tr>\n",
    "        <td>  </td>\n",
    "        <td>  </td>\n",
    "        <td colspan=2 style=\"text-align: center\"> True label </td>\n",
    "    </tr>\n",
    "    <tr>\n",
    "        <td>  </td>\n",
    "        <td>  </td>\n",
    "        <td> positive </td>\n",
    "        <td> negative </td>\n",
    "    </tr>    \n",
    "    <tr>\n",
    "        <td rowspan=2 style=\"vertical-align: center\"> Predicted label </td>\n",
    "        <td> positive </td>\n",
    "        <td> true positive </td>\n",
    "        <td> false positive </td>\n",
    "    </tr>\n",
    "    <tr>\n",
    "        <td> negative </td>\n",
    "        <td> false negative </td>\n",
    "        <td> true negative </td>\n",
    "    </tr>\n",
    "</table>\n",
    "\n",
    "Be careful: unfortunately, there is a trap in the used vocabulary; you have the labels 'positive' and 'negative' and these labels can be 'true positive', 'true negative', 'false positive', or 'false negative'. This is confusing. Sorry for that.\n",
    "\n",
    "The recall evaluates how much the model can retrieve the correct decision:\n",
    "\n",
    "$$recall = \\frac{tp}{tp+fn}$$\n",
    "\n",
    "The precision evaluates if the model does not sur-generate the positive or negative prediction:\n",
    "\n",
    "$$precision = \\frac{tp}{tp+fp}$$\n",
    "\n",
    "Moreover, we can use the F1 measure which deals with precision and recall:\n",
    "\n",
    "$$F1 = 2 \\times \\frac{precision \\times recall}{precision + recall}$$\n",
    "\n",
    "__Work__: evaluate on the test corpus the recall, the precision and the F1 measure."
   ]
  },
  {
   "cell_type": "code",
   "execution_count": null,
   "metadata": {},
   "outputs": [],
   "source": []
  },
  {
   "cell_type": "markdown",
   "metadata": {},
   "source": [
    "# Tuning the model\n",
    "\n",
    "In the model by \\[Dave et al., 2003\\] a document $d$ is considered as positive if $eval(d)>0$. But maybe this value is not very precise. For exemple, if a document has a value $eval$ equal to 0.02, it has chance to be negative.\n",
    "\n",
    "To check that, replace the decision $eval(d)>0 \\Rightarrow positive$ by  $eval(d)>\\alpha \\Rightarrow positive$ where $\\alpha$ is a threshold varying from a negative value to a positive value. Explore the range values of the $eval$ score on the test corpus. Iterate $\\alpha$ from the minimum value of $\\alpha$ to the maximum value of $\\alpha$. You can not scan all the values: choose a step, and refine. For each tested value, compute the recall and the precision on the __development__ part, and graph the curve (precision,recall).\n",
    "\n"
   ]
  },
  {
   "cell_type": "code",
   "execution_count": null,
   "metadata": {},
   "outputs": [],
   "source": [
    "## give the code here"
   ]
  },
  {
   "cell_type": "markdown",
   "metadata": {},
   "source": [
    "Then check for which value of $\\alpha$ the F1 measure is the highest. Apply this value on the test part. Is the F1 measure increased?"
   ]
  },
  {
   "cell_type": "code",
   "execution_count": null,
   "metadata": {},
   "outputs": [],
   "source": [
    "## give the code below\n",
    "\n",
    "\n",
    "## give your comment below"
   ]
  }
 ],
 "metadata": {
  "kernelspec": {
   "display_name": "Python 3",
   "language": "python",
   "name": "python3"
  },
  "language_info": {
   "codemirror_mode": {
    "name": "ipython",
    "version": 3
   },
   "file_extension": ".py",
   "mimetype": "text/x-python",
   "name": "python",
   "nbconvert_exporter": "python",
   "pygments_lexer": "ipython3",
   "version": "3.8.10"
  }
 },
 "nbformat": 4,
 "nbformat_minor": 2
}
